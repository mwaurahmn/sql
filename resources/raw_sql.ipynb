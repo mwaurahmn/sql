{
 "cells": [
  {
   "cell_type": "markdown",
   "id": "ce43d7df",
   "metadata": {},
   "source": [
    "# Cases SQL Statements"
   ]
  },
  {
   "cell_type": "markdown",
   "id": "d4f9249b",
   "metadata": {},
   "source": [
    "## Connection to Database"
   ]
  },
  {
   "cell_type": "code",
   "execution_count": 1,
   "id": "e0bd1223",
   "metadata": {},
   "outputs": [],
   "source": [
    "%load_ext sql"
   ]
  },
  {
   "cell_type": "code",
   "execution_count": 2,
   "id": "ab0d4db4",
   "metadata": {},
   "outputs": [],
   "source": [
    "%%sql \n",
    "\n",
    "sqlite:///../data/chinook.db"
   ]
  },
  {
   "cell_type": "markdown",
   "id": "1c8d7b67",
   "metadata": {},
   "source": [
    "## Case 1: Albums to Purchase"
   ]
  },
  {
   "cell_type": "code",
   "execution_count": 8,
   "id": "4a5004d6",
   "metadata": {},
   "outputs": [
    {
     "name": "stdout",
     "output_type": "stream",
     "text": [
      " * sqlite:///../data/chinook.db\n",
      "Done.\n"
     ]
    },
    {
     "data": {
      "text/html": [
       "<table>\n",
       "    <tr>\n",
       "        <th>genre_name</th>\n",
       "        <th>tracks</th>\n",
       "    </tr>\n",
       "    <tr>\n",
       "        <td>Rock</td>\n",
       "        <td>561</td>\n",
       "    </tr>\n",
       "    <tr>\n",
       "        <td>Alternative &amp; Punk</td>\n",
       "        <td>130</td>\n",
       "    </tr>\n",
       "    <tr>\n",
       "        <td>Metal</td>\n",
       "        <td>124</td>\n",
       "    </tr>\n",
       "    <tr>\n",
       "        <td>R&amp;B/Soul</td>\n",
       "        <td>53</td>\n",
       "    </tr>\n",
       "    <tr>\n",
       "        <td>Blues</td>\n",
       "        <td>36</td>\n",
       "    </tr>\n",
       "    <tr>\n",
       "        <td>Alternative</td>\n",
       "        <td>35</td>\n",
       "    </tr>\n",
       "    <tr>\n",
       "        <td>Pop</td>\n",
       "        <td>22</td>\n",
       "    </tr>\n",
       "    <tr>\n",
       "        <td>Latin</td>\n",
       "        <td>22</td>\n",
       "    </tr>\n",
       "    <tr>\n",
       "        <td>Hip Hop/Rap</td>\n",
       "        <td>20</td>\n",
       "    </tr>\n",
       "    <tr>\n",
       "        <td>Jazz</td>\n",
       "        <td>14</td>\n",
       "    </tr>\n",
       "    <tr>\n",
       "        <td>Easy Listening</td>\n",
       "        <td>13</td>\n",
       "    </tr>\n",
       "    <tr>\n",
       "        <td>Reggae</td>\n",
       "        <td>6</td>\n",
       "    </tr>\n",
       "    <tr>\n",
       "        <td>Electronica/Dance</td>\n",
       "        <td>5</td>\n",
       "    </tr>\n",
       "    <tr>\n",
       "        <td>Classical</td>\n",
       "        <td>4</td>\n",
       "    </tr>\n",
       "    <tr>\n",
       "        <td>Heavy Metal</td>\n",
       "        <td>3</td>\n",
       "    </tr>\n",
       "    <tr>\n",
       "        <td>Soundtrack</td>\n",
       "        <td>2</td>\n",
       "    </tr>\n",
       "    <tr>\n",
       "        <td>TV Shows</td>\n",
       "        <td>1</td>\n",
       "    </tr>\n",
       "</table>"
      ],
      "text/plain": [
       "[('Rock', 561),\n",
       " ('Alternative & Punk', 130),\n",
       " ('Metal', 124),\n",
       " ('R&B/Soul', 53),\n",
       " ('Blues', 36),\n",
       " ('Alternative', 35),\n",
       " ('Pop', 22),\n",
       " ('Latin', 22),\n",
       " ('Hip Hop/Rap', 20),\n",
       " ('Jazz', 14),\n",
       " ('Easy Listening', 13),\n",
       " ('Reggae', 6),\n",
       " ('Electronica/Dance', 5),\n",
       " ('Classical', 4),\n",
       " ('Heavy Metal', 3),\n",
       " ('Soundtrack', 2),\n",
       " ('TV Shows', 1)]"
      ]
     },
     "execution_count": 8,
     "metadata": {},
     "output_type": "execute_result"
    }
   ],
   "source": [
    "%%sql\n",
    "\n",
    "WITH track_genre_cte AS\n",
    "(\n",
    "    SELECT t.name AS track_name, g.name AS genre_name\n",
    "    FROM track AS t\n",
    "    INNER JOIN genre AS g\n",
    "    ON t.genre_id = g.genre_id\n",
    "    INNER JOIN invoice_line AS il\n",
    "    ON il.track_id = t.track_id\n",
    "    INNER JOIN invoice AS i\n",
    "    ON i.invoice_id = il.invoice_id\n",
    "    WHERE billing_country = 'USA'\n",
    ")\n",
    "\n",
    "SELECT genre_name, COUNT(track_name) AS tracks\n",
    "FROM track_genre_cte\n",
    "GROUP BY genre_name\n",
    "ORDER BY tracks DESC"
   ]
  },
  {
   "cell_type": "markdown",
   "id": "9a3daf76",
   "metadata": {},
   "source": [
    "## Case 2: Analyzing Employee Sales Performance"
   ]
  },
  {
   "cell_type": "code",
   "execution_count": 20,
   "id": "2c7169eb",
   "metadata": {},
   "outputs": [
    {
     "name": "stdout",
     "output_type": "stream",
     "text": [
      " * sqlite:///../data/chinook.db\n",
      "Done.\n"
     ]
    },
    {
     "data": {
      "text/html": [
       "<table>\n",
       "    <tr>\n",
       "        <th>name</th>\n",
       "        <th>year</th>\n",
       "        <th>revenue</th>\n",
       "    </tr>\n",
       "    <tr>\n",
       "        <td>Jane Peacock</td>\n",
       "        <td>2017</td>\n",
       "        <td>532.6200000000001</td>\n",
       "    </tr>\n",
       "    <tr>\n",
       "        <td>Jane Peacock</td>\n",
       "        <td>2018</td>\n",
       "        <td>413.82000000000005</td>\n",
       "    </tr>\n",
       "    <tr>\n",
       "        <td>Jane Peacock</td>\n",
       "        <td>2019</td>\n",
       "        <td>383.13000000000005</td>\n",
       "    </tr>\n",
       "    <tr>\n",
       "        <td>Jane Peacock</td>\n",
       "        <td>2020</td>\n",
       "        <td>401.93999999999994</td>\n",
       "    </tr>\n",
       "    <tr>\n",
       "        <td>Margaret Park</td>\n",
       "        <td>2017</td>\n",
       "        <td>416.78999999999996</td>\n",
       "    </tr>\n",
       "    <tr>\n",
       "        <td>Margaret Park</td>\n",
       "        <td>2018</td>\n",
       "        <td>400.95000000000005</td>\n",
       "    </tr>\n",
       "    <tr>\n",
       "        <td>Margaret Park</td>\n",
       "        <td>2019</td>\n",
       "        <td>400.94999999999993</td>\n",
       "    </tr>\n",
       "    <tr>\n",
       "        <td>Margaret Park</td>\n",
       "        <td>2020</td>\n",
       "        <td>365.31</td>\n",
       "    </tr>\n",
       "    <tr>\n",
       "        <td>Steve Johnson</td>\n",
       "        <td>2017</td>\n",
       "        <td>252.44999999999993</td>\n",
       "    </tr>\n",
       "    <tr>\n",
       "        <td>Steve Johnson</td>\n",
       "        <td>2018</td>\n",
       "        <td>332.64</td>\n",
       "    </tr>\n",
       "    <tr>\n",
       "        <td>Steve Johnson</td>\n",
       "        <td>2019</td>\n",
       "        <td>437.58000000000015</td>\n",
       "    </tr>\n",
       "    <tr>\n",
       "        <td>Steve Johnson</td>\n",
       "        <td>2020</td>\n",
       "        <td>371.25000000000006</td>\n",
       "    </tr>\n",
       "</table>"
      ],
      "text/plain": [
       "[('Jane Peacock', '2017', 532.6200000000001),\n",
       " ('Jane Peacock', '2018', 413.82000000000005),\n",
       " ('Jane Peacock', '2019', 383.13000000000005),\n",
       " ('Jane Peacock', '2020', 401.93999999999994),\n",
       " ('Margaret Park', '2017', 416.78999999999996),\n",
       " ('Margaret Park', '2018', 400.95000000000005),\n",
       " ('Margaret Park', '2019', 400.94999999999993),\n",
       " ('Margaret Park', '2020', 365.31),\n",
       " ('Steve Johnson', '2017', 252.44999999999993),\n",
       " ('Steve Johnson', '2018', 332.64),\n",
       " ('Steve Johnson', '2019', 437.58000000000015),\n",
       " ('Steve Johnson', '2020', 371.25000000000006)]"
      ]
     },
     "execution_count": 20,
     "metadata": {},
     "output_type": "execute_result"
    }
   ],
   "source": [
    "%%sql\n",
    "\n",
    "SELECT e.first_name|| ' '|| e.last_name AS name, SUBSTRING(invoice_date,1, 4) AS year, SUM(total) AS revenue\n",
    "FROM employee AS e\n",
    "INNER JOIN customer AS c\n",
    "ON e.employee_id = c.support_rep_id\n",
    "INNER JOIN invoice AS i\n",
    "ON i.customer_id = c.customer_id\n",
    "GROUP BY name, year"
   ]
  },
  {
   "cell_type": "code",
   "execution_count": null,
   "id": "8dd45b01",
   "metadata": {},
   "outputs": [],
   "source": []
  }
 ],
 "metadata": {
  "kernelspec": {
   "display_name": "Python 3 (ipykernel)",
   "language": "python",
   "name": "python3"
  },
  "language_info": {
   "codemirror_mode": {
    "name": "ipython",
    "version": 3
   },
   "file_extension": ".py",
   "mimetype": "text/x-python",
   "name": "python",
   "nbconvert_exporter": "python",
   "pygments_lexer": "ipython3",
   "version": "3.9.12"
  }
 },
 "nbformat": 4,
 "nbformat_minor": 5
}
