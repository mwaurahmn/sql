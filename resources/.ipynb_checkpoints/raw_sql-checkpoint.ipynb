{
 "cells": [
  {
   "cell_type": "markdown",
   "id": "ce43d7df",
   "metadata": {},
   "source": [
    "# Cases SQL Statements"
   ]
  },
  {
   "cell_type": "markdown",
   "id": "d4f9249b",
   "metadata": {},
   "source": [
    "## Connection to Database"
   ]
  },
  {
   "cell_type": "code",
   "execution_count": 1,
   "id": "e0bd1223",
   "metadata": {},
   "outputs": [],
   "source": [
    "%load_ext sql"
   ]
  },
  {
   "cell_type": "code",
   "execution_count": 6,
   "id": "ab0d4db4",
   "metadata": {},
   "outputs": [],
   "source": [
    "%%sql \n",
    "\n",
    "sqlite:///../data/chinook.db"
   ]
  },
  {
   "cell_type": "markdown",
   "id": "1c8d7b67",
   "metadata": {},
   "source": [
    "## Case 1: Albums to Purchase"
   ]
  },
  {
   "cell_type": "code",
   "execution_count": null,
   "id": "4a5004d6",
   "metadata": {},
   "outputs": [],
   "source": []
  }
 ],
 "metadata": {
  "kernelspec": {
   "display_name": "Python 3 (ipykernel)",
   "language": "python",
   "name": "python3"
  },
  "language_info": {
   "codemirror_mode": {
    "name": "ipython",
    "version": 3
   },
   "file_extension": ".py",
   "mimetype": "text/x-python",
   "name": "python",
   "nbconvert_exporter": "python",
   "pygments_lexer": "ipython3",
   "version": "3.9.12"
  }
 },
 "nbformat": 4,
 "nbformat_minor": 5
}
